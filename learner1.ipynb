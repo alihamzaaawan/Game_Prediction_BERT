{
  "nbformat": 4,
  "nbformat_minor": 0,
  "metadata": {
    "colab": {
      "name": "learner1.ipynb",
      "provenance": [],
      "authorship_tag": "ABX9TyMzH+09sDpW4u6BTsVd++WA",
      "include_colab_link": true
    },
    "kernelspec": {
      "name": "python3",
      "display_name": "Python 3"
    },
    "language_info": {
      "name": "python"
    }
  },
  "cells": [
    {
      "cell_type": "markdown",
      "metadata": {
        "id": "view-in-github",
        "colab_type": "text"
      },
      "source": [
        "<a href=\"https://colab.research.google.com/github/alihamzaaawan/Game_Prediction_BERT/blob/main/learner1.ipynb\" target=\"_parent\"><img src=\"https://colab.research.google.com/assets/colab-badge.svg\" alt=\"Open In Colab\"/></a>"
      ]
    },
    {
      "cell_type": "code",
      "metadata": {
        "id": "hHlR0MPh_Hjh"
      },
      "source": [
        "!pip install ktrain"
      ],
      "execution_count": null,
      "outputs": []
    },
    {
      "cell_type": "code",
      "metadata": {
        "colab": {
          "base_uri": "https://localhost:8080/"
        },
        "id": "T_5ltbGiGw-z",
        "outputId": "66650d87-c2fd-46d1-bac1-6abd6edc55b8"
      },
      "source": [
        "!git clone https://github.com/alihamzaaawan/Game_Prediction_BERT.git\n"
      ],
      "execution_count": null,
      "outputs": [
        {
          "output_type": "stream",
          "name": "stdout",
          "text": [
            "Cloning into 'Game_Prediction_BERT'...\n",
            "remote: Enumerating objects: 22, done.\u001b[K\n",
            "remote: Counting objects: 100% (22/22), done.\u001b[K\n",
            "remote: Compressing objects: 100% (20/20), done.\u001b[K\n",
            "remote: Total 22 (delta 1), reused 0 (delta 0), pack-reused 0\u001b[K\n",
            "Unpacking objects: 100% (22/22), done.\n"
          ]
        }
      ]
    },
    {
      "cell_type": "code",
      "metadata": {
        "id": "JzLqPVjlGxFG"
      },
      "source": [
        "import numpy as np\n",
        "import pandas as pd\n",
        "import tensorflow as tf\n",
        "import ktrain\n",
        "from ktrain import text"
      ],
      "execution_count": null,
      "outputs": []
    },
    {
      "cell_type": "code",
      "metadata": {
        "colab": {
          "base_uri": "https://localhost:8080/",
          "height": 990
        },
        "id": "0Trr2ae0GxJ2",
        "outputId": "0a3a3e31-8f4e-49ef-ff01-4c3f8ca90add"
      },
      "source": [
        "data_train = pd.read_excel('/content/Game_Prediction_BERT/train.xlsx',dtype= str)\n",
        "data_train\n"
      ],
      "execution_count": null,
      "outputs": [
        {
          "output_type": "execute_result",
          "data": {
            "text/html": [
              "<div>\n",
              "<style scoped>\n",
              "    .dataframe tbody tr th:only-of-type {\n",
              "        vertical-align: middle;\n",
              "    }\n",
              "\n",
              "    .dataframe tbody tr th {\n",
              "        vertical-align: top;\n",
              "    }\n",
              "\n",
              "    .dataframe thead th {\n",
              "        text-align: right;\n",
              "    }\n",
              "</style>\n",
              "<table border=\"1\" class=\"dataframe\">\n",
              "  <thead>\n",
              "    <tr style=\"text-align: right;\">\n",
              "      <th></th>\n",
              "      <th>Plot</th>\n",
              "      <th>Review</th>\n",
              "    </tr>\n",
              "  </thead>\n",
              "  <tbody>\n",
              "    <tr>\n",
              "      <th>0</th>\n",
              "      <td>A Vietnam veteran, who has recently returned h...</td>\n",
              "      <td>neg</td>\n",
              "    </tr>\n",
              "    <tr>\n",
              "      <th>1</th>\n",
              "      <td>John, an unattached plumber, meets and falls i...</td>\n",
              "      <td>neg</td>\n",
              "    </tr>\n",
              "    <tr>\n",
              "      <th>2</th>\n",
              "      <td>Play the action at your fingertips with 52 gam...</td>\n",
              "      <td>neg</td>\n",
              "    </tr>\n",
              "    <tr>\n",
              "      <th>3</th>\n",
              "      <td>You get a selection of four trucks and five st...</td>\n",
              "      <td>neg</td>\n",
              "    </tr>\n",
              "    <tr>\n",
              "      <th>4</th>\n",
              "      <td>Just another mission, or so you thought, until...</td>\n",
              "      <td>neg</td>\n",
              "    </tr>\n",
              "    <tr>\n",
              "      <th>5</th>\n",
              "      <td>Bruce Lee's relative, Chin, must save the worl...</td>\n",
              "      <td>neg</td>\n",
              "    </tr>\n",
              "    <tr>\n",
              "      <th>6</th>\n",
              "      <td>The first 3D Superman game. Your friends Lois ...</td>\n",
              "      <td>neg</td>\n",
              "    </tr>\n",
              "    <tr>\n",
              "      <th>7</th>\n",
              "      <td>In Sonic Free Riders, full-motion body control...</td>\n",
              "      <td>neg</td>\n",
              "    </tr>\n",
              "    <tr>\n",
              "      <th>8</th>\n",
              "      <td>After the destruction of Mother Base, survivin...</td>\n",
              "      <td>neg</td>\n",
              "    </tr>\n",
              "    <tr>\n",
              "      <th>9</th>\n",
              "      <td>You get to select your bus and drive it across...</td>\n",
              "      <td>neg</td>\n",
              "    </tr>\n",
              "    <tr>\n",
              "      <th>10</th>\n",
              "      <td>Help E.T. get home.</td>\n",
              "      <td>neg</td>\n",
              "    </tr>\n",
              "    <tr>\n",
              "      <th>11</th>\n",
              "      <td>A mild-mannered doctor (Jekyll) with a monstro...</td>\n",
              "      <td>neg</td>\n",
              "    </tr>\n",
              "    <tr>\n",
              "      <th>12</th>\n",
              "      <td>The sixteenth installment in the Tony Hawk ser...</td>\n",
              "      <td>neg</td>\n",
              "    </tr>\n",
              "    <tr>\n",
              "      <th>13</th>\n",
              "      <td>Umbrella Corps brings a competitive experience...</td>\n",
              "      <td>neg</td>\n",
              "    </tr>\n",
              "    <tr>\n",
              "      <th>14</th>\n",
              "      <td>The first, and only, 3D outing for Bubsy the B...</td>\n",
              "      <td>neg</td>\n",
              "    </tr>\n",
              "    <tr>\n",
              "      <th>15</th>\n",
              "      <td>Geralt is in the southern province of Toussain...</td>\n",
              "      <td>pos</td>\n",
              "    </tr>\n",
              "    <tr>\n",
              "      <th>16</th>\n",
              "      <td>Amidst the decline of the Wild West at the tur...</td>\n",
              "      <td>pos</td>\n",
              "    </tr>\n",
              "    <tr>\n",
              "      <th>17</th>\n",
              "      <td>A monster hunter for hire embarks on an epic j...</td>\n",
              "      <td>pos</td>\n",
              "    </tr>\n",
              "    <tr>\n",
              "      <th>18</th>\n",
              "      <td>In a hostile, post-pandemic world, Joel and El...</td>\n",
              "      <td>pos</td>\n",
              "    </tr>\n",
              "    <tr>\n",
              "      <th>19</th>\n",
              "      <td>A compilation of the first three Mass Effect g...</td>\n",
              "      <td>pos</td>\n",
              "    </tr>\n",
              "    <tr>\n",
              "      <th>20</th>\n",
              "      <td>After wiping out the gods of Mount Olympus, Kr...</td>\n",
              "      <td>pos</td>\n",
              "    </tr>\n",
              "    <tr>\n",
              "      <th>21</th>\n",
              "      <td>A group of high school students create a vigil...</td>\n",
              "      <td>pos</td>\n",
              "    </tr>\n",
              "    <tr>\n",
              "      <th>22</th>\n",
              "      <td>A young Kokiri boy discovers that his destiny ...</td>\n",
              "      <td>pos</td>\n",
              "    </tr>\n",
              "    <tr>\n",
              "      <th>23</th>\n",
              "      <td>A crack government anti-terrorist squad takes ...</td>\n",
              "      <td>pos</td>\n",
              "    </tr>\n",
              "    <tr>\n",
              "      <th>24</th>\n",
              "      <td>Geralt is forced by a seemingly harmless merch...</td>\n",
              "      <td>pos</td>\n",
              "    </tr>\n",
              "    <tr>\n",
              "      <th>25</th>\n",
              "      <td>Thrown back into the dangerous underworld he'd...</td>\n",
              "      <td>pos</td>\n",
              "    </tr>\n",
              "    <tr>\n",
              "      <th>26</th>\n",
              "      <td>Three very different criminals team up for a s...</td>\n",
              "      <td>pos</td>\n",
              "    </tr>\n",
              "    <tr>\n",
              "      <th>27</th>\n",
              "      <td>After being revived from death and having to j...</td>\n",
              "      <td>pos</td>\n",
              "    </tr>\n",
              "    <tr>\n",
              "      <th>28</th>\n",
              "      <td>A VR game of an impossible fight against a vic...</td>\n",
              "      <td>pos</td>\n",
              "    </tr>\n",
              "    <tr>\n",
              "      <th>29</th>\n",
              "      <td>Enhanced version of Metal Gear Solid 3: Snake ...</td>\n",
              "      <td>pos</td>\n",
              "    </tr>\n",
              "  </tbody>\n",
              "</table>\n",
              "</div>"
            ],
            "text/plain": [
              "                                                 Plot Review\n",
              "0   A Vietnam veteran, who has recently returned h...    neg\n",
              "1   John, an unattached plumber, meets and falls i...    neg\n",
              "2   Play the action at your fingertips with 52 gam...    neg\n",
              "3   You get a selection of four trucks and five st...    neg\n",
              "4   Just another mission, or so you thought, until...    neg\n",
              "5   Bruce Lee's relative, Chin, must save the worl...    neg\n",
              "6   The first 3D Superman game. Your friends Lois ...    neg\n",
              "7   In Sonic Free Riders, full-motion body control...    neg\n",
              "8   After the destruction of Mother Base, survivin...    neg\n",
              "9   You get to select your bus and drive it across...    neg\n",
              "10                                Help E.T. get home.    neg\n",
              "11  A mild-mannered doctor (Jekyll) with a monstro...    neg\n",
              "12  The sixteenth installment in the Tony Hawk ser...    neg\n",
              "13  Umbrella Corps brings a competitive experience...    neg\n",
              "14  The first, and only, 3D outing for Bubsy the B...    neg\n",
              "15  Geralt is in the southern province of Toussain...    pos\n",
              "16  Amidst the decline of the Wild West at the tur...    pos\n",
              "17  A monster hunter for hire embarks on an epic j...    pos\n",
              "18  In a hostile, post-pandemic world, Joel and El...    pos\n",
              "19  A compilation of the first three Mass Effect g...    pos\n",
              "20  After wiping out the gods of Mount Olympus, Kr...    pos\n",
              "21  A group of high school students create a vigil...    pos\n",
              "22  A young Kokiri boy discovers that his destiny ...    pos\n",
              "23  A crack government anti-terrorist squad takes ...    pos\n",
              "24  Geralt is forced by a seemingly harmless merch...    pos\n",
              "25  Thrown back into the dangerous underworld he'd...    pos\n",
              "26  Three very different criminals team up for a s...    pos\n",
              "27  After being revived from death and having to j...    pos\n",
              "28  A VR game of an impossible fight against a vic...    pos\n",
              "29  Enhanced version of Metal Gear Solid 3: Snake ...    pos"
            ]
          },
          "metadata": {},
          "execution_count": 4
        }
      ]
    },
    {
      "cell_type": "code",
      "metadata": {
        "colab": {
          "base_uri": "https://localhost:8080/",
          "height": 1000
        },
        "id": "wrEDB3aVGxOa",
        "outputId": "f061fc8d-610e-4fd2-9665-c8cd6909e30e"
      },
      "source": [
        "data_test = pd.read_excel('/content/Game_Prediction_BERT/test.xlsx',dtype= str)\n",
        "data_test\n"
      ],
      "execution_count": null,
      "outputs": [
        {
          "output_type": "execute_result",
          "data": {
            "text/html": [
              "<div>\n",
              "<style scoped>\n",
              "    .dataframe tbody tr th:only-of-type {\n",
              "        vertical-align: middle;\n",
              "    }\n",
              "\n",
              "    .dataframe tbody tr th {\n",
              "        vertical-align: top;\n",
              "    }\n",
              "\n",
              "    .dataframe thead th {\n",
              "        text-align: right;\n",
              "    }\n",
              "</style>\n",
              "<table border=\"1\" class=\"dataframe\">\n",
              "  <thead>\n",
              "    <tr style=\"text-align: right;\">\n",
              "      <th></th>\n",
              "      <th>Plot</th>\n",
              "      <th>Review</th>\n",
              "    </tr>\n",
              "  </thead>\n",
              "  <tbody>\n",
              "    <tr>\n",
              "      <th>0</th>\n",
              "      <td>Set in a future in which almost the whole eart...</td>\n",
              "      <td>neg</td>\n",
              "    </tr>\n",
              "    <tr>\n",
              "      <th>1</th>\n",
              "      <td>Your life as a struggling journalist in Neo-SF...</td>\n",
              "      <td>neg</td>\n",
              "    </tr>\n",
              "    <tr>\n",
              "      <th>2</th>\n",
              "      <td>Ayano Aishi was a girl who was stumbling throu...</td>\n",
              "      <td>neg</td>\n",
              "    </tr>\n",
              "    <tr>\n",
              "      <th>3</th>\n",
              "      <td>four mini games in which players can control t...</td>\n",
              "      <td>neg</td>\n",
              "    </tr>\n",
              "    <tr>\n",
              "      <th>4</th>\n",
              "      <td>Bowser has kidnapped Princess Peach and has hi...</td>\n",
              "      <td>neg</td>\n",
              "    </tr>\n",
              "    <tr>\n",
              "      <th>5</th>\n",
              "      <td>Fifa 20 features over 30 official leagues, 90 ...</td>\n",
              "      <td>neg</td>\n",
              "    </tr>\n",
              "    <tr>\n",
              "      <th>6</th>\n",
              "      <td>You assume the role of a psychopathic mass mur...</td>\n",
              "      <td>neg</td>\n",
              "    </tr>\n",
              "    <tr>\n",
              "      <th>7</th>\n",
              "      <td>Charles Bishop Weyland, a wealthy industrialis...</td>\n",
              "      <td>neg</td>\n",
              "    </tr>\n",
              "    <tr>\n",
              "      <th>8</th>\n",
              "      <td>Bubsy the Bobcat returns once again to fight b...</td>\n",
              "      <td>neg</td>\n",
              "    </tr>\n",
              "    <tr>\n",
              "      <th>9</th>\n",
              "      <td>In Gotham, one year after the defeat of Two-Fa...</td>\n",
              "      <td>neg</td>\n",
              "    </tr>\n",
              "    <tr>\n",
              "      <th>10</th>\n",
              "      <td>When the real world and anime world collide wi...</td>\n",
              "      <td>neg</td>\n",
              "    </tr>\n",
              "    <tr>\n",
              "      <th>11</th>\n",
              "      <td>Oscar, the fast-talking little fish, becomes a...</td>\n",
              "      <td>neg</td>\n",
              "    </tr>\n",
              "    <tr>\n",
              "      <th>12</th>\n",
              "      <td>The video game that trains you to be a Naval A...</td>\n",
              "      <td>neg</td>\n",
              "    </tr>\n",
              "    <tr>\n",
              "      <th>13</th>\n",
              "      <td>After 60 years of Japan using G-Cells to power...</td>\n",
              "      <td>neg</td>\n",
              "    </tr>\n",
              "    <tr>\n",
              "      <th>14</th>\n",
              "      <td>Leon Kennedy and Barry Burton must solve a mys...</td>\n",
              "      <td>neg</td>\n",
              "    </tr>\n",
              "    <tr>\n",
              "      <th>15</th>\n",
              "      <td>Ryo, a respected Japanese student sees his fat...</td>\n",
              "      <td>pos</td>\n",
              "    </tr>\n",
              "    <tr>\n",
              "      <th>16</th>\n",
              "      <td>In 2499 in the Koprulu sector, a ferocious col...</td>\n",
              "      <td>pos</td>\n",
              "    </tr>\n",
              "    <tr>\n",
              "      <th>17</th>\n",
              "      <td>Samus Aran returns to the brooding planet Zebe...</td>\n",
              "      <td>pos</td>\n",
              "    </tr>\n",
              "    <tr>\n",
              "      <th>18</th>\n",
              "      <td>James Bond must track down agent-turned-terror...</td>\n",
              "      <td>pos</td>\n",
              "    </tr>\n",
              "    <tr>\n",
              "      <th>19</th>\n",
              "      <td>When the evil Bowser steals 120 power stars an...</td>\n",
              "      <td>pos</td>\n",
              "    </tr>\n",
              "    <tr>\n",
              "      <th>20</th>\n",
              "      <td>After writer Harry Mason wakes up from being u...</td>\n",
              "      <td>pos</td>\n",
              "    </tr>\n",
              "    <tr>\n",
              "      <th>21</th>\n",
              "      <td>Two months after the mansion events, the deadl...</td>\n",
              "      <td>pos</td>\n",
              "    </tr>\n",
              "    <tr>\n",
              "      <th>22</th>\n",
              "      <td>After unwittingly turning his true love Elaine...</td>\n",
              "      <td>pos</td>\n",
              "    </tr>\n",
              "    <tr>\n",
              "      <th>23</th>\n",
              "      <td>Gabriel Knight, the owner of a New Orleans, Lo...</td>\n",
              "      <td>pos</td>\n",
              "    </tr>\n",
              "    <tr>\n",
              "      <th>24</th>\n",
              "      <td>Hades is a rogue-like dungeon crawler from the...</td>\n",
              "      <td>pos</td>\n",
              "    </tr>\n",
              "    <tr>\n",
              "      <th>25</th>\n",
              "      <td>ASTRO BOT Rescue Mission is a brand new platfo...</td>\n",
              "      <td>pos</td>\n",
              "    </tr>\n",
              "    <tr>\n",
              "      <th>26</th>\n",
              "      <td>To Trust an Incubus is the story of Kenta, you...</td>\n",
              "      <td>pos</td>\n",
              "    </tr>\n",
              "    <tr>\n",
              "      <th>27</th>\n",
              "      <td>Winx Club: Quest for the Codex is a computer g...</td>\n",
              "      <td>pos</td>\n",
              "    </tr>\n",
              "    <tr>\n",
              "      <th>28</th>\n",
              "      <td>A dead man's soul cries out against the force ...</td>\n",
              "      <td>pos</td>\n",
              "    </tr>\n",
              "    <tr>\n",
              "      <th>29</th>\n",
              "      <td>Mario must travel to worlds unknown in order t...</td>\n",
              "      <td>pos</td>\n",
              "    </tr>\n",
              "    <tr>\n",
              "      <th>30</th>\n",
              "      <td>A long time ago there was a conflict between a...</td>\n",
              "      <td>pos</td>\n",
              "    </tr>\n",
              "  </tbody>\n",
              "</table>\n",
              "</div>"
            ],
            "text/plain": [
              "                                                 Plot Review\n",
              "0   Set in a future in which almost the whole eart...    neg\n",
              "1   Your life as a struggling journalist in Neo-SF...    neg\n",
              "2   Ayano Aishi was a girl who was stumbling throu...    neg\n",
              "3   four mini games in which players can control t...    neg\n",
              "4   Bowser has kidnapped Princess Peach and has hi...    neg\n",
              "5   Fifa 20 features over 30 official leagues, 90 ...    neg\n",
              "6   You assume the role of a psychopathic mass mur...    neg\n",
              "7   Charles Bishop Weyland, a wealthy industrialis...    neg\n",
              "8   Bubsy the Bobcat returns once again to fight b...    neg\n",
              "9   In Gotham, one year after the defeat of Two-Fa...    neg\n",
              "10  When the real world and anime world collide wi...    neg\n",
              "11  Oscar, the fast-talking little fish, becomes a...    neg\n",
              "12  The video game that trains you to be a Naval A...    neg\n",
              "13  After 60 years of Japan using G-Cells to power...    neg\n",
              "14  Leon Kennedy and Barry Burton must solve a mys...    neg\n",
              "15  Ryo, a respected Japanese student sees his fat...    pos\n",
              "16  In 2499 in the Koprulu sector, a ferocious col...    pos\n",
              "17  Samus Aran returns to the brooding planet Zebe...    pos\n",
              "18  James Bond must track down agent-turned-terror...    pos\n",
              "19  When the evil Bowser steals 120 power stars an...    pos\n",
              "20  After writer Harry Mason wakes up from being u...    pos\n",
              "21  Two months after the mansion events, the deadl...    pos\n",
              "22  After unwittingly turning his true love Elaine...    pos\n",
              "23  Gabriel Knight, the owner of a New Orleans, Lo...    pos\n",
              "24  Hades is a rogue-like dungeon crawler from the...    pos\n",
              "25  ASTRO BOT Rescue Mission is a brand new platfo...    pos\n",
              "26  To Trust an Incubus is the story of Kenta, you...    pos\n",
              "27  Winx Club: Quest for the Codex is a computer g...    pos\n",
              "28  A dead man's soul cries out against the force ...    pos\n",
              "29  Mario must travel to worlds unknown in order t...    pos\n",
              "30  A long time ago there was a conflict between a...    pos"
            ]
          },
          "metadata": {},
          "execution_count": 5
        }
      ]
    },
    {
      "cell_type": "code",
      "metadata": {
        "colab": {
          "base_uri": "https://localhost:8080/",
          "height": 520
        },
        "id": "5ylROIv9GxRg",
        "outputId": "d70773a5-12d5-4629-9a69-ab29627b59af"
      },
      "source": [
        "(x_train, y_train), (x_test, y_test), preprocess = text.texts_from_df(train_df = data_train,\n",
        "                                                                     text_column = 'Plot',\n",
        "                                                                     label_columns = 'Review',\n",
        "                                                                     val_df = data_test,\n",
        "                                                                     maxlen = 400,\n",
        "                                                                     preprocess_mode = 'bert')\n"
      ],
      "execution_count": null,
      "outputs": [
        {
          "output_type": "stream",
          "name": "stdout",
          "text": [
            "['neg', 'pos']\n",
            "   neg  pos\n",
            "0  1.0  0.0\n",
            "1  1.0  0.0\n",
            "2  1.0  0.0\n",
            "3  1.0  0.0\n",
            "4  1.0  0.0\n",
            "['neg', 'pos']\n",
            "   neg  pos\n",
            "0  1.0  0.0\n",
            "1  1.0  0.0\n",
            "2  1.0  0.0\n",
            "3  1.0  0.0\n",
            "4  1.0  0.0\n",
            "downloading pretrained BERT model (uncased_L-12_H-768_A-12.zip)...\n",
            "[██████████████████████████████████████████████████]\n",
            "extracting pretrained BERT model...\n",
            "done.\n",
            "\n",
            "cleanup downloaded zip...\n",
            "done.\n",
            "\n",
            "preprocessing train...\n",
            "language: en\n"
          ]
        },
        {
          "output_type": "display_data",
          "data": {
            "text/html": [
              "done."
            ],
            "text/plain": [
              "<IPython.core.display.HTML object>"
            ]
          },
          "metadata": {}
        },
        {
          "output_type": "stream",
          "name": "stdout",
          "text": [
            "Is Multi-Label? False\n",
            "preprocessing test...\n",
            "language: en\n"
          ]
        },
        {
          "output_type": "display_data",
          "data": {
            "text/html": [
              "done."
            ],
            "text/plain": [
              "<IPython.core.display.HTML object>"
            ]
          },
          "metadata": {}
        }
      ]
    },
    {
      "cell_type": "code",
      "metadata": {
        "colab": {
          "base_uri": "https://localhost:8080/"
        },
        "id": "m_IkS3GMGxT5",
        "outputId": "048bab61-713c-4fb1-c3a0-506e4e378440"
      },
      "source": [
        "x_train[0].shape\n"
      ],
      "execution_count": null,
      "outputs": [
        {
          "output_type": "execute_result",
          "data": {
            "text/plain": [
              "(30, 400)"
            ]
          },
          "metadata": {},
          "execution_count": 7
        }
      ]
    },
    {
      "cell_type": "code",
      "metadata": {
        "colab": {
          "base_uri": "https://localhost:8080/"
        },
        "id": "OnYlXjhkH0s-",
        "outputId": "eb65613e-fde4-4660-d04c-ebbe87072e0e"
      },
      "source": [
        "model = text.text_classifier(name='bert',\n",
        "                             train_data = (x_train, y_train),\n",
        "                             preproc = preprocess)"
      ],
      "execution_count": null,
      "outputs": [
        {
          "output_type": "stream",
          "name": "stdout",
          "text": [
            "Is Multi-Label? False\n",
            "maxlen is 400\n",
            "done.\n"
          ]
        }
      ]
    },
    {
      "cell_type": "code",
      "metadata": {
        "id": "ZF1xsquVGxWO"
      },
      "source": [
        "learner = ktrain.get_learner(model = model,\n",
        "                             train_data = (x_train, y_train),\n",
        "                             val_data = (x_test, y_test),\n",
        "                             batch_size = 6)"
      ],
      "execution_count": null,
      "outputs": []
    },
    {
      "cell_type": "code",
      "metadata": {
        "colab": {
          "base_uri": "https://localhost:8080/"
        },
        "id": "sQJ7aAy2GxYU",
        "outputId": "66837295-df4d-48de-eb2b-28bd38af68a9"
      },
      "source": [
        "learner1 = learner.lr_find()"
      ],
      "execution_count": null,
      "outputs": [
        {
          "output_type": "stream",
          "name": "stdout",
          "text": [
            "simulating training for different learning rates... this may take a few moments...\n"
          ]
        },
        {
          "output_type": "stream",
          "name": "stderr",
          "text": [
            "/usr/local/lib/python3.7/dist-packages/keras/engine/functional.py:1410: CustomMaskWarning: Custom mask layers require a config and must override get_config. When loading, the custom mask layer must be passed to the custom_objects argument.\n",
            "  layer_config = serialize_layer_fn(layer)\n",
            "/usr/local/lib/python3.7/dist-packages/ktrain/core.py:566: UserWarning: max_epochs is being set to 5 since steps per epoch is small. If you wish to estimate LR using more epochs, set max_epochs manually.\n",
            "  warnings.warn('max_epochs is being set to 5 since steps per epoch is small. ' +\\\n"
          ]
        },
        {
          "output_type": "stream",
          "name": "stdout",
          "text": [
            "Epoch 1/5\n",
            "5/5 [==============================] - 146s 25s/step - loss: 0.7866 - accuracy: 0.5000\n",
            "Epoch 2/5\n",
            "5/5 [==============================] - 126s 25s/step - loss: 0.6865 - accuracy: 0.5333\n",
            "Epoch 3/5\n",
            "5/5 [==============================] - 126s 25s/step - loss: 0.7485 - accuracy: 0.7333\n",
            "Epoch 4/5\n",
            "5/5 [==============================] - 126s 25s/step - loss: 5.9822 - accuracy: 0.4667\n",
            "Epoch 5/5\n",
            "5/5 [==============================] - 25s 465us/step - loss: 30.7185 - accuracy: 0.3333\n",
            "\n",
            "\n",
            "done.\n",
            "Please invoke the Learner.lr_plot() method to visually inspect the loss plot to help identify the maximal learning rate associated with falling loss.\n"
          ]
        }
      ]
    },
    {
      "cell_type": "code",
      "metadata": {
        "id": "Jw3Bp8dWGxaf"
      },
      "source": [
        "learner1"
      ],
      "execution_count": null,
      "outputs": []
    },
    {
      "cell_type": "code",
      "metadata": {
        "colab": {
          "base_uri": "https://localhost:8080/",
          "height": 283
        },
        "id": "1LzxNGYyGxcy",
        "outputId": "617e0e01-a7d7-4827-a3e0-80d3298206b7"
      },
      "source": [
        "learner.lr_plot()"
      ],
      "execution_count": null,
      "outputs": [
        {
          "output_type": "display_data",
          "data": {
            "image/png": "[encoded data removed]",
            "text/plain": [
              "<Figure size 432x288 with 1 Axes>"
            ]
          },
          "metadata": {
            "needs_background": "light"
          }
        }
      ]
    }
  ]
}